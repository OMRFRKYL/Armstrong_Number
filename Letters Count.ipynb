{
  "nbformat": 4,
  "nbformat_minor": 0,
  "metadata": {
    "colab": {
      "name": "Untitled1.ipynb",
      "provenance": [],
      "authorship_tag": "ABX9TyPNGY1ql/xbAOEjn6QI0Z4l",
      "include_colab_link": true
    },
    "kernelspec": {
      "name": "python3",
      "display_name": "Python 3"
    },
    "language_info": {
      "name": "python"
    }
  },
  "cells": [
    {
      "cell_type": "markdown",
      "metadata": {
        "id": "view-in-github",
        "colab_type": "text"
      },
      "source": [
        "<a href=\"https://colab.research.google.com/github/OMRFRKYL/Pyhton_Assigments/blob/main/Letters%20Count.ipynb\" target=\"_parent\"><img src=\"https://colab.research.google.com/assets/colab-badge.svg\" alt=\"Open In Colab\"/></a>"
      ]
    },
    {
      "cell_type": "markdown",
      "source": [
        "LETTERS COUNT"
      ],
      "metadata": {
        "id": "wVuwo6t7BWOY"
      }
    },
    {
      "cell_type": "code",
      "execution_count": null,
      "metadata": {
        "id": "zNgJ-UHoBSJ5"
      },
      "outputs": [],
      "source": [
        "kelime_yeni = input(\"Lütfen Cümle Giriniz: \").lower()\n",
        "sözlük = {}\n",
        "for i in kelime_yeni:\n",
        "  keys =sözlük.keys()\n",
        "  if i in keys:\n",
        "    sözlük[i]+=1\n",
        "  else :\n",
        "    sözlük[i]=1\n",
        "\n",
        "print(sözlük)"
      ]
    }
  ]
}