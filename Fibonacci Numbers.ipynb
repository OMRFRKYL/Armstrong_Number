{
  "nbformat": 4,
  "nbformat_minor": 0,
  "metadata": {
    "colab": {
      "name": "Faiz Ödevi",
      "provenance": [],
      "collapsed_sections": [],
      "authorship_tag": "ABX9TyO0fxxu5xrUJ+n6Vh5UUqDM",
      "include_colab_link": true
    },
    "kernelspec": {
      "name": "python3",
      "display_name": "Python 3"
    },
    "language_info": {
      "name": "python"
    }
  },
  "cells": [
    {
      "cell_type": "markdown",
      "metadata": {
        "id": "view-in-github",
        "colab_type": "text"
      },
      "source": [
        "<a href=\"https://colab.research.google.com/github/OMRFRKYL/Pyhton_Assigments/blob/main/Fibonacci%20Numbers.ipynb\" target=\"_parent\"><img src=\"https://colab.research.google.com/assets/colab-badge.svg\" alt=\"Open In Colab\"/></a>"
      ]
    },
    {
      "cell_type": "markdown",
      "metadata": {
        "id": "8hiP0Wrj4-FP"
      },
      "source": [
        "Fibonacci Numbers"
      ]
    },
    {
      "cell_type": "code",
      "metadata": {
        "id": "QHforkmVBdVl"
      },
      "source": [
        "ilk_sayı = 0\n",
        "son_sayı = 1\n",
        "geçici_sayı = 0\n",
        "fibo_list = []\n",
        "fibo_list.append(0)\n",
        "son_değer =input(\"Liste Hangi Sayıya Kadar Olsun?\")\n",
        "while son_sayı <= int(son_değer):\n",
        "  fibo_list.append(son_sayı)\n",
        "  geçici_sayı = son_sayı + ilk_sayı\n",
        "  ilk_sayı=son_sayı\n",
        "  son_sayı=geçici_sayı\n",
        "print(fibo_list[1:])"
      ],
      "execution_count": null,
      "outputs": []
    }
  ]
}