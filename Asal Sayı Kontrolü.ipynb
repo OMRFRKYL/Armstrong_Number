{
  "nbformat": 4,
  "nbformat_minor": 0,
  "metadata": {
    "colab": {
      "name": "Untitled0.ipynb",
      "provenance": [],
      "authorship_tag": "ABX9TyNkDbYYutMiNfRwOSY7PLBu",
      "include_colab_link": true
    },
    "kernelspec": {
      "name": "python3",
      "display_name": "Python 3"
    },
    "language_info": {
      "name": "python"
    }
  },
  "cells": [
    {
      "cell_type": "markdown",
      "metadata": {
        "id": "view-in-github",
        "colab_type": "text"
      },
      "source": [
        "<a href=\"https://colab.research.google.com/github/OMRFRKYL/Armstrong_Number/blob/main/Asal%20Say%C4%B1%20Kontrol%C3%BC.ipynb\" target=\"_parent\"><img src=\"https://colab.research.google.com/assets/colab-badge.svg\" alt=\"Open In Colab\"/></a>"
      ]
    },
    {
      "cell_type": "code",
      "metadata": {
        "id": "Z3AEl588pHgk"
      },
      "source": [
        "Asal Sayı Kontrolü.\n"
      ],
      "execution_count": null,
      "outputs": []
    },
    {
      "cell_type": "code",
      "metadata": {
        "id": "ErnvwI-vpMFS"
      },
      "source": [
        "sayı = int(input(\"Sayı Giriniz :\"))\n",
        "bölen_adet=0\n",
        "for i in range(2,sayı+1):\n",
        "  if sayı%i==0:\n",
        "    bölen_adet+=1\n",
        "if bölen_adet==1:\n",
        "  print(sayı,\"Asaldır.\")\n",
        "else:\n",
        "  print(sayı, \"Asal Değildir.\")"
      ],
      "execution_count": null,
      "outputs": []
    },
    {
      "cell_type": "markdown",
      "metadata": {
        "id": "rwDHxsuzpI7N"
      },
      "source": [
        ""
      ]
    }
  ]
}