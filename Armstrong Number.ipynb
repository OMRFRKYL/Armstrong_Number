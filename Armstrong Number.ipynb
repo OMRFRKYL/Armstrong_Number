{
  "nbformat": 4,
  "nbformat_minor": 0,
  "metadata": {
    "colab": {
      "name": "Untitled0.ipynb",
      "provenance": [],
      "authorship_tag": "ABX9TyM7Cncs4QqBbsfhUrhOG6Ow",
      "include_colab_link": true
    },
    "kernelspec": {
      "name": "python3",
      "display_name": "Python 3"
    },
    "language_info": {
      "name": "python"
    }
  },
  "cells": [
    {
      "cell_type": "markdown",
      "metadata": {
        "id": "view-in-github",
        "colab_type": "text"
      },
      "source": [
        "<a href=\"https://colab.research.google.com/github/OMRFRKYL/Armstrong_Number/blob/main/Armstrong%20Number.ipynb\" target=\"_parent\"><img src=\"https://colab.research.google.com/assets/colab-badge.svg\" alt=\"Open In Colab\"/></a>"
      ]
    },
    {
      "cell_type": "code",
      "metadata": {
        "id": "Z3AEl588pHgk"
      },
      "source": [
        "ARMSTRONG NUMBER\n"
      ],
      "execution_count": null,
      "outputs": []
    },
    {
      "cell_type": "code",
      "metadata": {
        "id": "ErnvwI-vpMFS"
      },
      "source": [
        "sayı = int(input(\"Sayınızı Giriniz:\"))\n",
        "basamak = str(sayı)\n",
        "toplam = 0\n",
        "for x in basamak:\n",
        "  rakam=int(x)**len(basamak)\n",
        "  toplam+=rakam\n",
        "if (sayı == toplam) :\n",
        "  print(\"Bu bir Armstrong sayısıdır.\")\n",
        "else :\n",
        "  print(\"Bu bir Armstrong sayı değildir.\")"
      ],
      "execution_count": null,
      "outputs": []
    },
    {
      "cell_type": "markdown",
      "metadata": {
        "id": "rwDHxsuzpI7N"
      },
      "source": [
        ""
      ]
    }
  ]
}